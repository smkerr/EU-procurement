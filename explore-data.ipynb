{
  "cells": [
    {
      "cell_type": "markdown",
      "metadata": {
        "id": "tTQjH8Rewb5c"
      },
      "source": [
        "## Load packages"
      ]
    },
    {
      "cell_type": "code",
      "source": [
        "%%capture\n",
        "!echo \"deb http://downloads.skewed.de/apt jammy main\" >> /etc/apt/sources.list\n",
        "!apt-key adv --keyserver keyserver.ubuntu.com --recv-key 612DEFB798507F25\n",
        "!apt-get update\n",
        "!apt-get install python3-graph-tool python3-matplotlib python3-cairo"
      ],
      "metadata": {
        "colab": {
          "base_uri": "https://localhost:8080/"
        },
        "id": "koMWd94-wk6s",
        "outputId": "475bdc39-1e74-46e3-a22a-2b0c6b946e4d"
      },
      "execution_count": 12,
      "outputs": [
        {
          "output_type": "stream",
          "name": "stdout",
          "text": [
            "Warning: apt-key is deprecated. Manage keyring files in trusted.gpg.d instead (see apt-key(8)).\n",
            "Executing: /tmp/apt-key-gpghome.Bdb8yboM9t/gpg.1.sh --keyserver keyserver.ubuntu.com --recv-key 612DEFB798507F25\n",
            "gpg: key 612DEFB798507F25: \"Tiago de Paula Peixoto <tiago@skewed.de>\" not changed\n",
            "gpg: Total number processed: 1\n",
            "gpg:              unchanged: 1\n",
            "Hit:1 https://cloud.r-project.org/bin/linux/ubuntu jammy-cran40/ InRelease\n",
            "Hit:2 https://developer.download.nvidia.com/compute/cuda/repos/ubuntu2204/x86_64  InRelease\n",
            "Hit:3 http://archive.ubuntu.com/ubuntu jammy InRelease\n",
            "Get:4 http://security.ubuntu.com/ubuntu jammy-security InRelease [110 kB]\n",
            "Get:5 http://archive.ubuntu.com/ubuntu jammy-updates InRelease [119 kB]\n",
            "Get:6 http://archive.ubuntu.com/ubuntu jammy-backports InRelease [109 kB]\n",
            "Hit:7 https://ppa.launchpadcontent.net/c2d4u.team/c2d4u4.0+/ubuntu jammy InRelease\n",
            "Hit:8 http://downloads.skewed.de/apt jammy InRelease\n",
            "Get:9 http://security.ubuntu.com/ubuntu jammy-security/universe amd64 Packages [1,005 kB]\n",
            "Hit:10 https://ppa.launchpadcontent.net/deadsnakes/ppa/ubuntu jammy InRelease\n",
            "Hit:11 https://ppa.launchpadcontent.net/graphics-drivers/ppa/ubuntu jammy InRelease\n",
            "Hit:12 https://ppa.launchpadcontent.net/ubuntugis/ppa/ubuntu jammy InRelease\n",
            "Fetched 1,342 kB in 2s (833 kB/s)\n",
            "Reading package lists... Done\n",
            "W: http://downloads.skewed.de/apt/dists/jammy/InRelease: Key is stored in legacy trusted.gpg keyring (/etc/apt/trusted.gpg), see the DEPRECATION section in apt-key(8) for details.\n",
            "W: Target Packages (main/binary-amd64/Packages) is configured multiple times in /etc/apt/sources.list:43 and /etc/apt/sources.list:44\n",
            "W: Target Packages (main/binary-all/Packages) is configured multiple times in /etc/apt/sources.list:43 and /etc/apt/sources.list:44\n",
            "W: Target Packages (main/binary-amd64/Packages) is configured multiple times in /etc/apt/sources.list:43 and /etc/apt/sources.list:44\n",
            "W: Target Packages (main/binary-all/Packages) is configured multiple times in /etc/apt/sources.list:43 and /etc/apt/sources.list:44\n",
            "Reading package lists... Done\n",
            "Building dependency tree... Done\n",
            "Reading state information... Done\n",
            "python3-matplotlib is already the newest version (3.5.1-2build1).\n",
            "python3-graph-tool is already the newest version (2.58).\n",
            "The following NEW packages will be installed:\n",
            "  python3-cairo\n",
            "0 upgraded, 1 newly installed, 0 to remove and 18 not upgraded.\n",
            "Need to get 73.7 kB of archives.\n",
            "After this operation, 310 kB of additional disk space will be used.\n",
            "Get:1 http://archive.ubuntu.com/ubuntu jammy/main amd64 python3-cairo amd64 1.20.1-3build1 [73.7 kB]\n",
            "Fetched 73.7 kB in 0s (930 kB/s)\n",
            "W: Target Packages (main/binary-amd64/Packages) is configured multiple times in /etc/apt/sources.list:43 and /etc/apt/sources.list:44\n",
            "W: Target Packages (main/binary-all/Packages) is configured multiple times in /etc/apt/sources.list:43 and /etc/apt/sources.list:44\n",
            "Selecting previously unselected package python3-cairo:amd64.\n",
            "(Reading database ... 130011 files and directories currently installed.)\n",
            "Preparing to unpack .../python3-cairo_1.20.1-3build1_amd64.deb ...\n",
            "Unpacking python3-cairo:amd64 (1.20.1-3build1) ...\n",
            "Setting up python3-cairo:amd64 (1.20.1-3build1) ...\n",
            "W: Target Packages (main/binary-amd64/Packages) is configured multiple times in /etc/apt/sources.list:43 and /etc/apt/sources.list:44\n",
            "W: Target Packages (main/binary-all/Packages) is configured multiple times in /etc/apt/sources.list:43 and /etc/apt/sources.list:44\n"
          ]
        }
      ]
    },
    {
      "cell_type": "code",
      "source": [
        "%%capture\n",
        "!apt purge python3-cairo\n",
        "!apt install libcairo2-dev pkg-config python3-dev\n",
        "!pip install --force-reinstall pycairo\n",
        "!pip install zstandard"
      ],
      "metadata": {
        "colab": {
          "base_uri": "https://localhost:8080/",
          "height": 642
        },
        "id": "WqqTSpCLxwKc",
        "outputId": "082e5171-fc61-4bc7-d132-34211e962e79"
      },
      "execution_count": 13,
      "outputs": [
        {
          "output_type": "stream",
          "name": "stdout",
          "text": [
            "Reading package lists... Done\n",
            "Building dependency tree... Done\n",
            "Reading state information... Done\n",
            "The following packages will be REMOVED:\n",
            "  python3-cairo*\n",
            "0 upgraded, 0 newly installed, 1 to remove and 18 not upgraded.\n",
            "After this operation, 310 kB disk space will be freed.\n",
            "(Reading database ... 130020 files and directories currently installed.)\n",
            "Removing python3-cairo:amd64 (1.20.1-3build1) ...\n",
            "\u001b[1;33mW: \u001b[0mTarget Packages (main/binary-amd64/Packages) is configured multiple times in /etc/apt/sources.list:43 and /etc/apt/sources.list:44\u001b[0m\n",
            "\u001b[1;33mW: \u001b[0mTarget Packages (main/binary-all/Packages) is configured multiple times in /etc/apt/sources.list:43 and /etc/apt/sources.list:44\u001b[0m\n",
            "Reading package lists... Done\n",
            "Building dependency tree... Done\n",
            "Reading state information... Done\n",
            "libcairo2-dev is already the newest version (1.16.0-5ubuntu2).\n",
            "pkg-config is already the newest version (0.29.2-1ubuntu3).\n",
            "python3-dev is already the newest version (3.10.6-1~22.04).\n",
            "0 upgraded, 0 newly installed, 0 to remove and 18 not upgraded.\n",
            "\u001b[1;33mW: \u001b[0mTarget Packages (main/binary-amd64/Packages) is configured multiple times in /etc/apt/sources.list:43 and /etc/apt/sources.list:44\u001b[0m\n",
            "\u001b[1;33mW: \u001b[0mTarget Packages (main/binary-all/Packages) is configured multiple times in /etc/apt/sources.list:43 and /etc/apt/sources.list:44\u001b[0m\n",
            "Collecting pycairo\n",
            "  Using cached pycairo-1.25.0-cp310-cp310-linux_x86_64.whl\n",
            "Installing collected packages: pycairo\n",
            "  Attempting uninstall: pycairo\n",
            "    Found existing installation: pycairo 1.25.0\n",
            "    Uninstalling pycairo-1.25.0:\n",
            "      Successfully uninstalled pycairo-1.25.0\n",
            "Successfully installed pycairo-1.25.0\n"
          ]
        },
        {
          "output_type": "display_data",
          "data": {
            "application/vnd.colab-display-data+json": {
              "pip_warning": {
                "packages": [
                  "cairo"
                ]
              }
            }
          },
          "metadata": {}
        },
        {
          "output_type": "stream",
          "name": "stdout",
          "text": [
            "Requirement already satisfied: zstandard in /usr/local/lib/python3.10/dist-packages (0.21.0)\n"
          ]
        }
      ]
    },
    {
      "cell_type": "code",
      "execution_count": 15,
      "metadata": {
        "id": "7QHwXFzdwb5e"
      },
      "outputs": [],
      "source": [
        "import graph_tool.all as gt\n",
        "import matplotlib.pyplot as plt\n",
        "import numpy as np\n",
        "import matplotlib"
      ]
    },
    {
      "cell_type": "markdown",
      "metadata": {
        "id": "l5wX1V-Nwb5f"
      },
      "source": [
        "## Load data"
      ]
    },
    {
      "cell_type": "code",
      "source": [
        "\"/content/network.gml\""
      ],
      "metadata": {
        "id": "0kPABVRL1scJ"
      },
      "execution_count": null,
      "outputs": []
    },
    {
      "cell_type": "code",
      "execution_count": 10,
      "metadata": {
        "id": "oxfBDPc-wb5f"
      },
      "outputs": [],
      "source": [
        "g = gt.collection.ns[\"twitter_higgs/retweet\"]"
      ]
    },
    {
      "cell_type": "code",
      "execution_count": 11,
      "metadata": {
        "colab": {
          "base_uri": "https://localhost:8080/"
        },
        "id": "ZVmRqbwewb5g",
        "outputId": "ffa69fca-5d28-4f3b-a34c-c9102602e6a5"
      },
      "outputs": [
        {
          "output_type": "stream",
          "name": "stdout",
          "text": [
            "<Graph object, directed, with 256491 vertices and 328132 edges, 2 internal vertex properties, 1 internal edge property, 5 internal graph properties, at 0x7f644763a500>\n"
          ]
        }
      ],
      "source": [
        "print(g)"
      ]
    },
    {
      "cell_type": "code",
      "execution_count": null,
      "metadata": {
        "id": "jSwRmcP5wb5h"
      },
      "outputs": [],
      "source": [
        "g.list_properties()"
      ]
    },
    {
      "cell_type": "code",
      "execution_count": null,
      "metadata": {
        "id": "jsACLmp0wb5h"
      },
      "outputs": [],
      "source": [
        "# in and out degree distribution\n",
        "in_hist = gt.vertex_hist(g, \"in\")\n",
        "\n",
        "out_hist = gt.vertex_hist(g, \"out\")"
      ]
    },
    {
      "cell_type": "code",
      "execution_count": null,
      "metadata": {
        "id": "0sRi3VUbwb5i"
      },
      "outputs": [],
      "source": [
        "y = in_hist[0]\n",
        "err = np.sqrt(in_hist[0])\n",
        "plt.errorbar(in_hist[1][:-1], in_hist[0], fmt=\"o\", yerr=err,\n",
        "        label=\"in\")\n",
        "\n",
        "y = out_hist[0]\n",
        "err = np.sqrt(out_hist[0])\n",
        "plt.errorbar(out_hist[1][:-1], out_hist[0], fmt=\"o\", yerr=err,\n",
        "        label=\"out\")\n",
        "\n",
        "plt.yscale(\"log\")\n",
        "plt.xscale(\"log\")\n",
        "\n",
        "plt.xlabel(\"$k$\")\n",
        "plt.ylabel(\"$NP(k_{in})$\")\n",
        "\n",
        "plt.tight_layout()\n",
        "plt.legend()"
      ]
    },
    {
      "cell_type": "code",
      "execution_count": null,
      "metadata": {
        "id": "fWHuPY2swb5i"
      },
      "outputs": [],
      "source": [
        "# select a subgraph for visualization\n",
        "u = gt.extract_largest_component(g)\n",
        "\n",
        "print(u)\n",
        "\n",
        "u = gt.Graph(u, prune=True)\n",
        "\n",
        "print(u)"
      ]
    },
    {
      "cell_type": "code",
      "execution_count": null,
      "metadata": {
        "id": "WCac_2C7wb5j"
      },
      "outputs": [],
      "source": [
        "# spring layout\n",
        "pos = gt.sfdp_layout(u)"
      ]
    },
    {
      "cell_type": "code",
      "execution_count": null,
      "metadata": {
        "id": "k7UYV_ynwb5k"
      },
      "outputs": [],
      "source": [
        "gt.graph_draw(u, pos)"
      ]
    },
    {
      "cell_type": "code",
      "execution_count": null,
      "metadata": {
        "id": "2yzTzUK5wb5k"
      },
      "outputs": [],
      "source": [
        "pos_fr = gt.fruchterman_reingold_layout(u, n_iter=100)"
      ]
    },
    {
      "cell_type": "code",
      "execution_count": null,
      "metadata": {
        "id": "uN0tyRgfwb5k"
      },
      "outputs": [],
      "source": [
        "gt.graph_draw(u, pos_fr)"
      ]
    },
    {
      "cell_type": "code",
      "execution_count": null,
      "metadata": {
        "id": "xVhSu6klwb5l"
      },
      "outputs": [],
      "source": [
        "gt.graph_draw(u, pos=u.vp[\"_pos\"])"
      ]
    },
    {
      "cell_type": "code",
      "execution_count": null,
      "metadata": {
        "id": "_uam58Rewb5l"
      },
      "outputs": [],
      "source": [
        "import geopandas as gpd\n",
        "\n",
        "countries = gpd.read_file(gpd.datasets.get_path(\"naturalearth_lowres\"))"
      ]
    },
    {
      "cell_type": "code",
      "execution_count": null,
      "metadata": {
        "id": "Mf3AwH2awb5l"
      },
      "outputs": [],
      "source": [
        "pos_tree = gt.radial_tree_layout(u, 0)"
      ]
    },
    {
      "cell_type": "code",
      "execution_count": null,
      "metadata": {
        "id": "cq2k-4sCwb5l"
      },
      "outputs": [],
      "source": [
        "gt.graph_draw(u, pos_tree)"
      ]
    },
    {
      "cell_type": "code",
      "execution_count": null,
      "metadata": {
        "id": "ftkEaCT9wb5l"
      },
      "outputs": [],
      "source": [
        "maximum = max(u.get_in_degrees(u.get_vertices()))\n",
        "\n",
        "print(np.where(u.get_in_degrees(u.get_vertices()) == maximum))\n",
        "print(u.get_in_degrees(u.get_vertices()))"
      ]
    },
    {
      "cell_type": "code",
      "execution_count": null,
      "metadata": {
        "id": "gKUx3Rpxwb5m"
      },
      "outputs": [],
      "source": [
        "pos_tree = gt.radial_tree_layout(u, 1)"
      ]
    },
    {
      "cell_type": "code",
      "execution_count": null,
      "metadata": {
        "id": "QpbOL1nSwb5m"
      },
      "outputs": [],
      "source": [
        "gt.graph_draw(u, pos_tree)"
      ]
    },
    {
      "cell_type": "code",
      "execution_count": null,
      "metadata": {
        "id": "6kLLvqDVwb5m"
      },
      "outputs": [],
      "source": [
        "state = gt.minimize_nested_blockmodel_dl(u)\n",
        "\n",
        "t = gt.get_hierarchy_tree(state)[0]\n",
        "\n",
        "tpos = pos = gt.radial_tree_layout(t, t.vertex(t.num_vertices() - 1, use_index=False), weighted=True)\n",
        "\n",
        "cts = gt.get_hierarchy_control_points(u, t, tpos)\n",
        "\n",
        "pos = u.own_property(tpos)\n",
        "\n",
        "b = state.levels[0].b\n",
        "\n",
        "shape = b.copy()\n",
        "\n",
        "shape.a %= 14\n",
        "\n",
        "gt.graph_draw(u, pos=pos, vertex_fill_color=b, vertex_shape=shape, edge_control_points=cts,\n",
        "\n",
        "              edge_color=[0, 0, 0, 0.3], vertex_anchor=0)"
      ]
    },
    {
      "cell_type": "code",
      "execution_count": null,
      "metadata": {
        "id": "y0j8jX9pwb5m"
      },
      "outputs": [],
      "source": [
        "# shortest paths\n",
        "dist = gt.shortest_distance(u, source=u.vertex(1))\n",
        "\n",
        "print(dist.a)\n",
        "\n",
        "plt.hist(dist.a)"
      ]
    },
    {
      "cell_type": "code",
      "execution_count": null,
      "metadata": {
        "id": "cEfkuyQ0wb5n"
      },
      "outputs": [],
      "source": [
        "hist, bin_edges = gt.distance_histogram(u)\n",
        "print(hist)\n",
        "plt.bar(bin_edges[:-1], hist, width=1)"
      ]
    },
    {
      "cell_type": "code",
      "execution_count": null,
      "metadata": {
        "id": "hEgox9D-wb5n"
      },
      "outputs": [],
      "source": [
        "dist = gt.shortest_distance(u)\n",
        "\n",
        "average_path_length = gt.vertex_average(u, dist)\n",
        "print(np.mean(average_path_length))"
      ]
    },
    {
      "cell_type": "code",
      "execution_count": null,
      "metadata": {
        "id": "WLWNJNywwb5n"
      },
      "outputs": [],
      "source": [
        "# percolation\n",
        "edges = sorted([(e.source(), e.target()) for e in u.edges()],\n",
        "               key=lambda e: e[0].in_degree() * e[1].in_degree())\n",
        "\n",
        "sizes, comp = gt.edge_percolation(u, edges)\n",
        "\n",
        "np.random.shuffle(edges)\n",
        "\n",
        "sizes2, comp = gt.edge_percolation(u, edges)\n",
        "\n",
        "plt.plot(sizes, label=\"Targeted\")\n",
        "\n",
        "plt.plot(sizes2, label=\"Random\")\n",
        "\n",
        "plt.legend()"
      ]
    },
    {
      "cell_type": "code",
      "execution_count": null,
      "metadata": {
        "id": "junolcCLwb5n"
      },
      "outputs": [],
      "source": [
        "# k-core decomposition\n",
        "kcore = gt.kcore_decomposition(u)\n",
        "gt.graph_draw(u, vertex_fill_color=kcore, vertex_text=kcore)"
      ]
    },
    {
      "cell_type": "code",
      "execution_count": null,
      "metadata": {
        "id": "ZExz-rNvwb5o"
      },
      "outputs": [],
      "source": [
        "gt.pseudo_diameter(u)"
      ]
    },
    {
      "cell_type": "code",
      "execution_count": null,
      "metadata": {
        "id": "RhEJHNQKwb5o"
      },
      "outputs": [],
      "source": [
        "# centrality measures\n",
        "pr = gt.pagerank(u)\n",
        "\n",
        "gt.graph_draw(u, pos=u.vp[\"_pos\"], vertex_fill_color=pr,\n",
        "\n",
        "              vertex_size=gt.prop_to_size(pr, mi=5, ma=15),\n",
        "\n",
        "              vorder=pr, vcmap=matplotlib.cm.gist_heat)"
      ]
    },
    {
      "cell_type": "code",
      "execution_count": null,
      "metadata": {
        "id": "QP6UgNhawb5o"
      },
      "outputs": [],
      "source": [
        "vp, ep = gt.betweenness(u)\n",
        "\n",
        "gt.graph_draw(u, pos=u.vp[\"_pos\"], vertex_fill_color=vp,\n",
        "\n",
        "              vertex_size=gt.prop_to_size(vp, mi=5, ma=15),\n",
        "\n",
        "              edge_pen_width=gt.prop_to_size(ep, mi=0.5, ma=5),\n",
        "\n",
        "              vcmap=matplotlib.cm.gist_heat,\n",
        "\n",
        "              vorder=vp)"
      ]
    },
    {
      "cell_type": "code",
      "execution_count": null,
      "metadata": {
        "id": "-Mjha0Y1wb5o"
      },
      "outputs": [],
      "source": [
        "c = gt.closeness(u)\n",
        "\n",
        "gt.graph_draw(u, pos=u.vp[\"_pos\"], vertex_fill_color=c,\n",
        "\n",
        "              vertex_size=gt.prop_to_size(c, mi=0.5, ma=5),\n",
        "\n",
        "              vcmap=matplotlib.cm.gist_heat,\n",
        "\n",
        "              vorder=c)"
      ]
    },
    {
      "cell_type": "code",
      "execution_count": null,
      "metadata": {
        "id": "Hruw6iHEwb5o"
      },
      "outputs": [],
      "source": [
        "ee, x = gt.eigenvector(u, u.ep[\"weight\"])\n",
        "\n",
        "gt.graph_draw(u, pos=u.vp[\"_pos\"], vertex_fill_color=x,\n",
        "\n",
        "              vertex_size=gt.prop_to_size(x, mi=5, ma=15),\n",
        "\n",
        "              vcmap=matplotlib.cm.gist_heat,\n",
        "\n",
        "              vorder=x)"
      ]
    },
    {
      "cell_type": "code",
      "execution_count": null,
      "metadata": {
        "id": "S1mIo-VBwb5p"
      },
      "outputs": [],
      "source": [
        "gt.graph_draw(u, pos=pos_fr, vertex_fill_color=x,\n",
        "\n",
        "              vertex_size=gt.prop_to_size(x, mi=5, ma=15),\n",
        "\n",
        "              vcmap=matplotlib.cm.gist_heat,\n",
        "\n",
        "              vorder=x)"
      ]
    },
    {
      "cell_type": "code",
      "execution_count": null,
      "metadata": {
        "id": "GTjjt0Vjwb5p"
      },
      "outputs": [],
      "source": [
        "clust = gt.local_clustering(u)\n",
        "\n",
        "print(gt.vertex_average(u, clust))"
      ]
    },
    {
      "cell_type": "code",
      "execution_count": null,
      "metadata": {
        "id": "DVzB_QH9wb5p"
      },
      "outputs": [],
      "source": [
        "print(clust.a)"
      ]
    },
    {
      "cell_type": "code",
      "execution_count": null,
      "metadata": {
        "id": "IupDz-qmwb5p"
      },
      "outputs": [],
      "source": [
        "out_degs = u.get_out_degrees(u.get_vertices())"
      ]
    },
    {
      "cell_type": "code",
      "execution_count": null,
      "metadata": {
        "id": "syL6qkCWwb5q"
      },
      "outputs": [],
      "source": [
        "plt.scatter(out_degs, clust.a, alpha=0.5)"
      ]
    },
    {
      "cell_type": "code",
      "execution_count": null,
      "metadata": {
        "id": "mVceJtP7wb5q"
      },
      "outputs": [],
      "source": [
        "in_degs = u.get_in_degrees(u.get_vertices())"
      ]
    },
    {
      "cell_type": "code",
      "execution_count": null,
      "metadata": {
        "id": "YxCmiFdawb5q"
      },
      "outputs": [],
      "source": [
        "plt.scatter(in_degs, clust.a, alpha=0.5)"
      ]
    },
    {
      "cell_type": "code",
      "execution_count": null,
      "metadata": {
        "id": "qG1Len2pwb5q"
      },
      "outputs": [],
      "source": [
        "# blockmodel\n",
        "state = gt.minimize_blockmodel_dl(u)\n",
        "\n",
        "state.draw(pos=u.vp[\"_pos\"], vertex_shape=state.get_blocks())"
      ]
    },
    {
      "cell_type": "code",
      "execution_count": null,
      "metadata": {
        "id": "3JMvI9Giwb5q"
      },
      "outputs": [],
      "source": [
        "state.draw(pos=pos_fr, vertex_shape=state.get_blocks())"
      ]
    },
    {
      "cell_type": "code",
      "execution_count": null,
      "metadata": {
        "id": "X7iqyK-Wwb5q"
      },
      "outputs": [],
      "source": [
        "state.draw(pos=pos_fr, vertex_shape=state.get_blocks(), vertex_size=gt.prop_to_size(x, mi=5, ma=25))"
      ]
    },
    {
      "cell_type": "code",
      "execution_count": null,
      "metadata": {
        "id": "lck_ew9_wb5r"
      },
      "outputs": [],
      "source": [
        "state2 = gt.minimize_nested_blockmodel_dl(u)\n",
        "\n",
        "state2.draw()"
      ]
    },
    {
      "cell_type": "code",
      "execution_count": null,
      "metadata": {
        "id": "C10mxxIowb5r"
      },
      "outputs": [],
      "source": [
        "print(state.get_blocks().a)"
      ]
    },
    {
      "cell_type": "code",
      "execution_count": null,
      "metadata": {
        "id": "7l2s8Bwswb5r"
      },
      "outputs": [],
      "source": [
        "print(u.vp[\"name\"].a)"
      ]
    },
    {
      "cell_type": "code",
      "execution_count": null,
      "metadata": {
        "id": "jk0O8_s7wb5r"
      },
      "outputs": [],
      "source": [
        "u.save(\"retweets.graphml\")"
      ]
    },
    {
      "cell_type": "code",
      "execution_count": null,
      "metadata": {
        "id": "DkPs8OzUwb5r"
      },
      "outputs": [],
      "source": [
        "g_wiki = gt.collection.ns[\"wikipedia_link/de\"]"
      ]
    },
    {
      "cell_type": "code",
      "execution_count": null,
      "metadata": {
        "id": "R741LOhpwb5r"
      },
      "outputs": [],
      "source": [
        "print(g_wiki)"
      ]
    },
    {
      "cell_type": "code",
      "execution_count": null,
      "metadata": {
        "id": "NtMfryi7wb5r"
      },
      "outputs": [],
      "source": [
        "g_wiki.list_properties()"
      ]
    },
    {
      "cell_type": "code",
      "execution_count": null,
      "metadata": {
        "id": "Fh0GOn_iwb5r"
      },
      "outputs": [],
      "source": [
        "g_gov = gt.collection.ns[\"us_agencies/alabama\"]"
      ]
    },
    {
      "cell_type": "code",
      "execution_count": null,
      "metadata": {
        "id": "G-R1UPHZwb5r"
      },
      "outputs": [],
      "source": [
        "g_gov.list_properties()"
      ]
    },
    {
      "cell_type": "code",
      "execution_count": null,
      "metadata": {
        "id": "x5GOblo7wb5s"
      },
      "outputs": [],
      "source": [
        "g_email = gt.collection.ns[\"email_enron\"]"
      ]
    },
    {
      "cell_type": "code",
      "execution_count": null,
      "metadata": {
        "id": "3I6t4Sugwb5s"
      },
      "outputs": [],
      "source": [
        "g_email.list_properties()"
      ]
    },
    {
      "cell_type": "code",
      "execution_count": null,
      "metadata": {
        "id": "6CWO3cyLwb5s"
      },
      "outputs": [],
      "source": [
        "g_faculty = gt.collection.ns[\"faculty_hiring_us/academia\"]"
      ]
    },
    {
      "cell_type": "code",
      "execution_count": null,
      "metadata": {
        "id": "r317qDsSwb5s"
      },
      "outputs": [],
      "source": [
        "g_faculty.list_properties()"
      ]
    },
    {
      "cell_type": "code",
      "execution_count": null,
      "metadata": {
        "id": "rEKooRs4wb5t"
      },
      "outputs": [],
      "source": [
        "g_cop = gt.collection.ns[\"copenhagen/sms\"]"
      ]
    },
    {
      "cell_type": "code",
      "execution_count": null,
      "metadata": {
        "id": "PsoIt0G5wb5t"
      },
      "outputs": [],
      "source": [
        "g_cop.list_properties()"
      ]
    }
  ],
  "metadata": {
    "language_info": {
      "name": "python"
    },
    "colab": {
      "provenance": []
    },
    "kernelspec": {
      "name": "python3",
      "display_name": "Python 3"
    }
  },
  "nbformat": 4,
  "nbformat_minor": 0
}