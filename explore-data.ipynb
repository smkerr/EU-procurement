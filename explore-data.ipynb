{
  "cells": [
    {
      "cell_type": "markdown",
      "metadata": {
        "id": "tTQjH8Rewb5c"
      },
      "source": [
        "## Load packages"
      ]
    },
    {
      "cell_type": "code",
      "source": [
        "%%capture\n",
        "!echo \"deb http://downloads.skewed.de/apt jammy main\" >> /etc/apt/sources.list\n",
        "!apt-key adv --keyserver keyserver.ubuntu.com --recv-key 612DEFB798507F25\n",
        "!apt-get update\n",
        "!apt-get install python3-graph-tool python3-matplotlib python3-cairo"
      ],
      "metadata": {
        "id": "koMWd94-wk6s"
      },
      "execution_count": 1,
      "outputs": []
    },
    {
      "cell_type": "code",
      "source": [
        "%%capture\n",
        "!apt purge python3-cairo\n",
        "!apt install libcairo2-dev pkg-config python3-dev\n",
        "!pip install --force-reinstall pycairo\n",
        "!pip install zstandard"
      ],
      "metadata": {
        "id": "WqqTSpCLxwKc"
      },
      "execution_count": 3,
      "outputs": []
    },
    {
      "cell_type": "code",
      "source": [
        "!pip install igraph"
      ],
      "metadata": {
        "id": "IAewmhJjZ4RE",
        "outputId": "86d683bd-9176-4d4c-cb4c-10ff0453211b",
        "colab": {
          "base_uri": "https://localhost:8080/"
        }
      },
      "execution_count": 27,
      "outputs": [
        {
          "output_type": "stream",
          "name": "stdout",
          "text": [
            "Collecting igraph\n",
            "  Downloading igraph-0.11.2-cp39-abi3-manylinux_2_17_x86_64.manylinux2014_x86_64.whl (3.3 MB)\n",
            "\u001b[2K     \u001b[90m━━━━━━━━━━━━━━━━━━━━━━━━━━━━━━━━━━━━━━━━\u001b[0m \u001b[32m3.3/3.3 MB\u001b[0m \u001b[31m10.1 MB/s\u001b[0m eta \u001b[36m0:00:00\u001b[0m\n",
            "\u001b[?25hCollecting texttable>=1.6.2 (from igraph)\n",
            "  Downloading texttable-1.7.0-py2.py3-none-any.whl (10 kB)\n",
            "Installing collected packages: texttable, igraph\n",
            "Successfully installed igraph-0.11.2 texttable-1.7.0\n"
          ]
        }
      ]
    },
    {
      "cell_type": "code",
      "execution_count": 28,
      "metadata": {
        "id": "7QHwXFzdwb5e"
      },
      "outputs": [],
      "source": [
        "import graph_tool.all as gt\n",
        "import matplotlib.pyplot as plt\n",
        "import numpy as np\n",
        "import matplotlib\n",
        "import networkx as nx #\n",
        "from igraph import * #"
      ]
    },
    {
      "cell_type": "markdown",
      "metadata": {
        "id": "l5wX1V-Nwb5f"
      },
      "source": [
        "## Load data"
      ]
    },
    {
      "cell_type": "code",
      "source": [
        "g=Graph.Read_Gml(\"/content/network.gml\")"
      ],
      "metadata": {
        "id": "Wy_6PgzjZgqH"
      },
      "execution_count": null,
      "outputs": []
    },
    {
      "cell_type": "code",
      "source": [
        "g=nx.read_gml(\"/content/network.gml\")\n"
      ],
      "metadata": {
        "id": "0kPABVRL1scJ",
        "outputId": "67494562-0dc4-4d64-d144-d04c4ddd647e",
        "colab": {
          "base_uri": "https://localhost:8080/",
          "height": 458
        }
      },
      "execution_count": 25,
      "outputs": [
        {
          "output_type": "error",
          "ename": "NetworkXError",
          "evalue": "ignored",
          "traceback": [
            "\u001b[0;31m---------------------------------------------------------------------------\u001b[0m",
            "\u001b[0;31mUnicodeDecodeError\u001b[0m                        Traceback (most recent call last)",
            "\u001b[0;32m/usr/local/lib/python3.10/dist-packages/networkx/readwrite/gml.py\u001b[0m in \u001b[0;36mfilter_lines\u001b[0;34m(lines)\u001b[0m\n\u001b[1;32m    185\u001b[0m             \u001b[0;32mtry\u001b[0m\u001b[0;34m:\u001b[0m\u001b[0;34m\u001b[0m\u001b[0;34m\u001b[0m\u001b[0m\n\u001b[0;32m--> 186\u001b[0;31m                 \u001b[0mline\u001b[0m \u001b[0;34m=\u001b[0m \u001b[0mline\u001b[0m\u001b[0;34m.\u001b[0m\u001b[0mdecode\u001b[0m\u001b[0;34m(\u001b[0m\u001b[0;34m\"ascii\"\u001b[0m\u001b[0;34m)\u001b[0m\u001b[0;34m\u001b[0m\u001b[0;34m\u001b[0m\u001b[0m\n\u001b[0m\u001b[1;32m    187\u001b[0m             \u001b[0;32mexcept\u001b[0m \u001b[0mUnicodeDecodeError\u001b[0m \u001b[0;32mas\u001b[0m \u001b[0merr\u001b[0m\u001b[0;34m:\u001b[0m\u001b[0;34m\u001b[0m\u001b[0;34m\u001b[0m\u001b[0m\n",
            "\u001b[0;31mUnicodeDecodeError\u001b[0m: 'ascii' codec can't decode byte 0xc3 in position 48: ordinal not in range(128)",
            "\nThe above exception was the direct cause of the following exception:\n",
            "\u001b[0;31mNetworkXError\u001b[0m                             Traceback (most recent call last)",
            "\u001b[0;32m<ipython-input-25-99f148b52148>\u001b[0m in \u001b[0;36m<cell line: 1>\u001b[0;34m()\u001b[0m\n\u001b[0;32m----> 1\u001b[0;31m \u001b[0mg\u001b[0m\u001b[0;34m=\u001b[0m\u001b[0mnx\u001b[0m\u001b[0;34m.\u001b[0m\u001b[0mread_gml\u001b[0m\u001b[0;34m(\u001b[0m\u001b[0;34m\"/content/network.gml\"\u001b[0m\u001b[0;34m)\u001b[0m\u001b[0;34m\u001b[0m\u001b[0;34m\u001b[0m\u001b[0m\n\u001b[0m",
            "\u001b[0;32m/usr/local/lib/python3.10/dist-packages/networkx/utils/decorators.py\u001b[0m in \u001b[0;36margmap_read_gml_1\u001b[0;34m(path, label, destringizer)\u001b[0m\n\u001b[1;32m      3\u001b[0m \u001b[0;32mimport\u001b[0m \u001b[0mgzip\u001b[0m\u001b[0;34m\u001b[0m\u001b[0;34m\u001b[0m\u001b[0m\n\u001b[1;32m      4\u001b[0m \u001b[0;32mimport\u001b[0m \u001b[0minspect\u001b[0m\u001b[0;34m\u001b[0m\u001b[0;34m\u001b[0m\u001b[0m\n\u001b[0;32m----> 5\u001b[0;31m \u001b[0;32mimport\u001b[0m \u001b[0mitertools\u001b[0m\u001b[0;34m\u001b[0m\u001b[0;34m\u001b[0m\u001b[0m\n\u001b[0m\u001b[1;32m      6\u001b[0m \u001b[0;32mimport\u001b[0m \u001b[0mre\u001b[0m\u001b[0;34m\u001b[0m\u001b[0;34m\u001b[0m\u001b[0m\n\u001b[1;32m      7\u001b[0m \u001b[0;32mfrom\u001b[0m \u001b[0mcollections\u001b[0m \u001b[0;32mimport\u001b[0m \u001b[0mdefaultdict\u001b[0m\u001b[0;34m\u001b[0m\u001b[0;34m\u001b[0m\u001b[0m\n",
            "\u001b[0;32m/usr/local/lib/python3.10/dist-packages/networkx/readwrite/gml.py\u001b[0m in \u001b[0;36mread_gml\u001b[0;34m(path, label, destringizer)\u001b[0m\n\u001b[1;32m    193\u001b[0m             \u001b[0;32myield\u001b[0m \u001b[0mline\u001b[0m\u001b[0;34m\u001b[0m\u001b[0;34m\u001b[0m\u001b[0m\n\u001b[1;32m    194\u001b[0m \u001b[0;34m\u001b[0m\u001b[0m\n\u001b[0;32m--> 195\u001b[0;31m     \u001b[0mG\u001b[0m \u001b[0;34m=\u001b[0m \u001b[0mparse_gml_lines\u001b[0m\u001b[0;34m(\u001b[0m\u001b[0mfilter_lines\u001b[0m\u001b[0;34m(\u001b[0m\u001b[0mpath\u001b[0m\u001b[0;34m)\u001b[0m\u001b[0;34m,\u001b[0m \u001b[0mlabel\u001b[0m\u001b[0;34m,\u001b[0m \u001b[0mdestringizer\u001b[0m\u001b[0;34m)\u001b[0m\u001b[0;34m\u001b[0m\u001b[0;34m\u001b[0m\u001b[0m\n\u001b[0m\u001b[1;32m    196\u001b[0m     \u001b[0;32mreturn\u001b[0m \u001b[0mG\u001b[0m\u001b[0;34m\u001b[0m\u001b[0;34m\u001b[0m\u001b[0m\n\u001b[1;32m    197\u001b[0m \u001b[0;34m\u001b[0m\u001b[0m\n",
            "\u001b[0;32m/usr/local/lib/python3.10/dist-packages/networkx/readwrite/gml.py\u001b[0m in \u001b[0;36mparse_gml_lines\u001b[0;34m(lines, label, destringizer)\u001b[0m\n\u001b[1;32m    436\u001b[0m \u001b[0;34m\u001b[0m\u001b[0m\n\u001b[1;32m    437\u001b[0m     \u001b[0mtokens\u001b[0m \u001b[0;34m=\u001b[0m \u001b[0mtokenize\u001b[0m\u001b[0;34m(\u001b[0m\u001b[0;34m)\u001b[0m\u001b[0;34m\u001b[0m\u001b[0;34m\u001b[0m\u001b[0m\n\u001b[0;32m--> 438\u001b[0;31m     \u001b[0mgraph\u001b[0m \u001b[0;34m=\u001b[0m \u001b[0mparse_graph\u001b[0m\u001b[0;34m(\u001b[0m\u001b[0;34m)\u001b[0m\u001b[0;34m\u001b[0m\u001b[0;34m\u001b[0m\u001b[0m\n\u001b[0m\u001b[1;32m    439\u001b[0m \u001b[0;34m\u001b[0m\u001b[0m\n\u001b[1;32m    440\u001b[0m     \u001b[0mdirected\u001b[0m \u001b[0;34m=\u001b[0m \u001b[0mgraph\u001b[0m\u001b[0;34m.\u001b[0m\u001b[0mpop\u001b[0m\u001b[0;34m(\u001b[0m\u001b[0;34m\"directed\"\u001b[0m\u001b[0;34m,\u001b[0m \u001b[0;32mFalse\u001b[0m\u001b[0;34m)\u001b[0m\u001b[0;34m\u001b[0m\u001b[0;34m\u001b[0m\u001b[0m\n",
            "\u001b[0;32m/usr/local/lib/python3.10/dist-packages/networkx/readwrite/gml.py\u001b[0m in \u001b[0;36mparse_graph\u001b[0;34m()\u001b[0m\n\u001b[1;32m    425\u001b[0m \u001b[0;34m\u001b[0m\u001b[0m\n\u001b[1;32m    426\u001b[0m     \u001b[0;32mdef\u001b[0m \u001b[0mparse_graph\u001b[0m\u001b[0;34m(\u001b[0m\u001b[0;34m)\u001b[0m\u001b[0;34m:\u001b[0m\u001b[0;34m\u001b[0m\u001b[0;34m\u001b[0m\u001b[0m\n\u001b[0;32m--> 427\u001b[0;31m         \u001b[0mcurr_token\u001b[0m\u001b[0;34m,\u001b[0m \u001b[0mdct\u001b[0m \u001b[0;34m=\u001b[0m \u001b[0mparse_kv\u001b[0m\u001b[0;34m(\u001b[0m\u001b[0mnext\u001b[0m\u001b[0;34m(\u001b[0m\u001b[0mtokens\u001b[0m\u001b[0;34m)\u001b[0m\u001b[0;34m)\u001b[0m\u001b[0;34m\u001b[0m\u001b[0;34m\u001b[0m\u001b[0m\n\u001b[0m\u001b[1;32m    428\u001b[0m         \u001b[0;32mif\u001b[0m \u001b[0mcurr_token\u001b[0m\u001b[0;34m.\u001b[0m\u001b[0mcategory\u001b[0m \u001b[0;32mis\u001b[0m \u001b[0;32mnot\u001b[0m \u001b[0;32mNone\u001b[0m\u001b[0;34m:\u001b[0m  \u001b[0;31m# EOF\u001b[0m\u001b[0;34m\u001b[0m\u001b[0;34m\u001b[0m\u001b[0m\n\u001b[1;32m    429\u001b[0m             \u001b[0munexpected\u001b[0m\u001b[0;34m(\u001b[0m\u001b[0mcurr_token\u001b[0m\u001b[0;34m,\u001b[0m \u001b[0;34m\"EOF\"\u001b[0m\u001b[0;34m)\u001b[0m\u001b[0;34m\u001b[0m\u001b[0;34m\u001b[0m\u001b[0m\n",
            "\u001b[0;32m/usr/local/lib/python3.10/dist-packages/networkx/readwrite/gml.py\u001b[0m in \u001b[0;36mparse_kv\u001b[0;34m(curr_token)\u001b[0m\n\u001b[1;32m    371\u001b[0m                 \u001b[0mcurr_token\u001b[0m \u001b[0;34m=\u001b[0m \u001b[0mnext\u001b[0m\u001b[0;34m(\u001b[0m\u001b[0mtokens\u001b[0m\u001b[0;34m)\u001b[0m\u001b[0;34m\u001b[0m\u001b[0;34m\u001b[0m\u001b[0m\n\u001b[1;32m    372\u001b[0m             \u001b[0;32melif\u001b[0m \u001b[0mcategory\u001b[0m \u001b[0;34m==\u001b[0m \u001b[0mPattern\u001b[0m\u001b[0;34m.\u001b[0m\u001b[0mDICT_START\u001b[0m\u001b[0;34m:\u001b[0m\u001b[0;34m\u001b[0m\u001b[0;34m\u001b[0m\u001b[0m\n\u001b[0;32m--> 373\u001b[0;31m                 \u001b[0mcurr_token\u001b[0m\u001b[0;34m,\u001b[0m \u001b[0mvalue\u001b[0m \u001b[0;34m=\u001b[0m \u001b[0mparse_dict\u001b[0m\u001b[0;34m(\u001b[0m\u001b[0mcurr_token\u001b[0m\u001b[0;34m)\u001b[0m\u001b[0;34m\u001b[0m\u001b[0;34m\u001b[0m\u001b[0m\n\u001b[0m\u001b[1;32m    374\u001b[0m             \u001b[0;32melse\u001b[0m\u001b[0;34m:\u001b[0m\u001b[0;34m\u001b[0m\u001b[0;34m\u001b[0m\u001b[0m\n\u001b[1;32m    375\u001b[0m                 \u001b[0;31m# Allow for string convertible id and label values\u001b[0m\u001b[0;34m\u001b[0m\u001b[0;34m\u001b[0m\u001b[0m\n",
            "\u001b[0;32m/usr/local/lib/python3.10/dist-packages/networkx/readwrite/gml.py\u001b[0m in \u001b[0;36mparse_dict\u001b[0;34m(curr_token)\u001b[0m\n\u001b[1;32m    417\u001b[0m     \u001b[0;32mdef\u001b[0m \u001b[0mparse_dict\u001b[0m\u001b[0;34m(\u001b[0m\u001b[0mcurr_token\u001b[0m\u001b[0;34m)\u001b[0m\u001b[0;34m:\u001b[0m\u001b[0;34m\u001b[0m\u001b[0;34m\u001b[0m\u001b[0m\n\u001b[1;32m    418\u001b[0m         \u001b[0;31m# dict start\u001b[0m\u001b[0;34m\u001b[0m\u001b[0;34m\u001b[0m\u001b[0m\n\u001b[0;32m--> 419\u001b[0;31m         \u001b[0mcurr_token\u001b[0m \u001b[0;34m=\u001b[0m \u001b[0mconsume\u001b[0m\u001b[0;34m(\u001b[0m\u001b[0mcurr_token\u001b[0m\u001b[0;34m,\u001b[0m \u001b[0mPattern\u001b[0m\u001b[0;34m.\u001b[0m\u001b[0mDICT_START\u001b[0m\u001b[0;34m,\u001b[0m \u001b[0;34m\"'['\"\u001b[0m\u001b[0;34m)\u001b[0m\u001b[0;34m\u001b[0m\u001b[0;34m\u001b[0m\u001b[0m\n\u001b[0m\u001b[1;32m    420\u001b[0m         \u001b[0;31m# dict contents\u001b[0m\u001b[0;34m\u001b[0m\u001b[0;34m\u001b[0m\u001b[0m\n\u001b[1;32m    421\u001b[0m         \u001b[0mcurr_token\u001b[0m\u001b[0;34m,\u001b[0m \u001b[0mdct\u001b[0m \u001b[0;34m=\u001b[0m \u001b[0mparse_kv\u001b[0m\u001b[0;34m(\u001b[0m\u001b[0mcurr_token\u001b[0m\u001b[0;34m)\u001b[0m\u001b[0;34m\u001b[0m\u001b[0;34m\u001b[0m\u001b[0m\n",
            "\u001b[0;32m/usr/local/lib/python3.10/dist-packages/networkx/readwrite/gml.py\u001b[0m in \u001b[0;36mconsume\u001b[0;34m(curr_token, category, expected)\u001b[0m\n\u001b[1;32m    345\u001b[0m     \u001b[0;32mdef\u001b[0m \u001b[0mconsume\u001b[0m\u001b[0;34m(\u001b[0m\u001b[0mcurr_token\u001b[0m\u001b[0;34m,\u001b[0m \u001b[0mcategory\u001b[0m\u001b[0;34m,\u001b[0m \u001b[0mexpected\u001b[0m\u001b[0;34m)\u001b[0m\u001b[0;34m:\u001b[0m\u001b[0;34m\u001b[0m\u001b[0;34m\u001b[0m\u001b[0m\n\u001b[1;32m    346\u001b[0m         \u001b[0;32mif\u001b[0m \u001b[0mcurr_token\u001b[0m\u001b[0;34m.\u001b[0m\u001b[0mcategory\u001b[0m \u001b[0;34m==\u001b[0m \u001b[0mcategory\u001b[0m\u001b[0;34m:\u001b[0m\u001b[0;34m\u001b[0m\u001b[0;34m\u001b[0m\u001b[0m\n\u001b[0;32m--> 347\u001b[0;31m             \u001b[0;32mreturn\u001b[0m \u001b[0mnext\u001b[0m\u001b[0;34m(\u001b[0m\u001b[0mtokens\u001b[0m\u001b[0;34m)\u001b[0m\u001b[0;34m\u001b[0m\u001b[0;34m\u001b[0m\u001b[0m\n\u001b[0m\u001b[1;32m    348\u001b[0m         \u001b[0munexpected\u001b[0m\u001b[0;34m(\u001b[0m\u001b[0mcurr_token\u001b[0m\u001b[0;34m,\u001b[0m \u001b[0mexpected\u001b[0m\u001b[0;34m)\u001b[0m\u001b[0;34m\u001b[0m\u001b[0;34m\u001b[0m\u001b[0m\n\u001b[1;32m    349\u001b[0m \u001b[0;34m\u001b[0m\u001b[0m\n",
            "\u001b[0;32m/usr/local/lib/python3.10/dist-packages/networkx/readwrite/gml.py\u001b[0m in \u001b[0;36mtokenize\u001b[0;34m()\u001b[0m\n\u001b[1;32m    312\u001b[0m         \u001b[0mtokens\u001b[0m \u001b[0;34m=\u001b[0m \u001b[0mre\u001b[0m\u001b[0;34m.\u001b[0m\u001b[0mcompile\u001b[0m\u001b[0;34m(\u001b[0m\u001b[0;34m\"|\"\u001b[0m\u001b[0;34m.\u001b[0m\u001b[0mjoin\u001b[0m\u001b[0;34m(\u001b[0m\u001b[0;34mf\"({pattern})\"\u001b[0m \u001b[0;32mfor\u001b[0m \u001b[0mpattern\u001b[0m \u001b[0;32min\u001b[0m \u001b[0mpatterns\u001b[0m\u001b[0;34m)\u001b[0m\u001b[0;34m)\u001b[0m\u001b[0;34m\u001b[0m\u001b[0;34m\u001b[0m\u001b[0m\n\u001b[1;32m    313\u001b[0m         \u001b[0mlineno\u001b[0m \u001b[0;34m=\u001b[0m \u001b[0;36m0\u001b[0m\u001b[0;34m\u001b[0m\u001b[0;34m\u001b[0m\u001b[0m\n\u001b[0;32m--> 314\u001b[0;31m         \u001b[0;32mfor\u001b[0m \u001b[0mline\u001b[0m \u001b[0;32min\u001b[0m \u001b[0mlines\u001b[0m\u001b[0;34m:\u001b[0m\u001b[0;34m\u001b[0m\u001b[0;34m\u001b[0m\u001b[0m\n\u001b[0m\u001b[1;32m    315\u001b[0m             \u001b[0mlength\u001b[0m \u001b[0;34m=\u001b[0m \u001b[0mlen\u001b[0m\u001b[0;34m(\u001b[0m\u001b[0mline\u001b[0m\u001b[0;34m)\u001b[0m\u001b[0;34m\u001b[0m\u001b[0;34m\u001b[0m\u001b[0m\n\u001b[1;32m    316\u001b[0m             \u001b[0mpos\u001b[0m \u001b[0;34m=\u001b[0m \u001b[0;36m0\u001b[0m\u001b[0;34m\u001b[0m\u001b[0;34m\u001b[0m\u001b[0m\n",
            "\u001b[0;32m/usr/local/lib/python3.10/dist-packages/networkx/readwrite/gml.py\u001b[0m in \u001b[0;36mfilter_lines\u001b[0;34m(lines)\u001b[0m\n\u001b[1;32m    186\u001b[0m                 \u001b[0mline\u001b[0m \u001b[0;34m=\u001b[0m \u001b[0mline\u001b[0m\u001b[0;34m.\u001b[0m\u001b[0mdecode\u001b[0m\u001b[0;34m(\u001b[0m\u001b[0;34m\"ascii\"\u001b[0m\u001b[0;34m)\u001b[0m\u001b[0;34m\u001b[0m\u001b[0;34m\u001b[0m\u001b[0m\n\u001b[1;32m    187\u001b[0m             \u001b[0;32mexcept\u001b[0m \u001b[0mUnicodeDecodeError\u001b[0m \u001b[0;32mas\u001b[0m \u001b[0merr\u001b[0m\u001b[0;34m:\u001b[0m\u001b[0;34m\u001b[0m\u001b[0;34m\u001b[0m\u001b[0m\n\u001b[0;32m--> 188\u001b[0;31m                 \u001b[0;32mraise\u001b[0m \u001b[0mNetworkXError\u001b[0m\u001b[0;34m(\u001b[0m\u001b[0;34m\"input is not ASCII-encoded\"\u001b[0m\u001b[0;34m)\u001b[0m \u001b[0;32mfrom\u001b[0m \u001b[0merr\u001b[0m\u001b[0;34m\u001b[0m\u001b[0;34m\u001b[0m\u001b[0m\n\u001b[0m\u001b[1;32m    189\u001b[0m             \u001b[0;32mif\u001b[0m \u001b[0;32mnot\u001b[0m \u001b[0misinstance\u001b[0m\u001b[0;34m(\u001b[0m\u001b[0mline\u001b[0m\u001b[0;34m,\u001b[0m \u001b[0mstr\u001b[0m\u001b[0;34m)\u001b[0m\u001b[0;34m:\u001b[0m\u001b[0;34m\u001b[0m\u001b[0;34m\u001b[0m\u001b[0m\n\u001b[1;32m    190\u001b[0m                 \u001b[0mlines\u001b[0m \u001b[0;34m=\u001b[0m \u001b[0mstr\u001b[0m\u001b[0;34m(\u001b[0m\u001b[0mlines\u001b[0m\u001b[0;34m)\u001b[0m\u001b[0;34m\u001b[0m\u001b[0;34m\u001b[0m\u001b[0m\n",
            "\u001b[0;31mNetworkXError\u001b[0m: input is not ASCII-encoded"
          ]
        }
      ]
    },
    {
      "cell_type": "code",
      "execution_count": null,
      "metadata": {
        "id": "oxfBDPc-wb5f"
      },
      "outputs": [],
      "source": [
        "g = gt.collection.ns[\"twitter_higgs/retweet\"]"
      ]
    },
    {
      "cell_type": "code",
      "execution_count": null,
      "metadata": {
        "colab": {
          "base_uri": "https://localhost:8080/"
        },
        "id": "ZVmRqbwewb5g",
        "outputId": "ffa69fca-5d28-4f3b-a34c-c9102602e6a5"
      },
      "outputs": [
        {
          "output_type": "stream",
          "name": "stdout",
          "text": [
            "<Graph object, directed, with 256491 vertices and 328132 edges, 2 internal vertex properties, 1 internal edge property, 5 internal graph properties, at 0x7f644763a500>\n"
          ]
        }
      ],
      "source": [
        "print(g)"
      ]
    },
    {
      "cell_type": "code",
      "execution_count": null,
      "metadata": {
        "id": "jSwRmcP5wb5h"
      },
      "outputs": [],
      "source": [
        "g.list_properties()"
      ]
    },
    {
      "cell_type": "markdown",
      "source": [
        "## In and out degree distribution"
      ],
      "metadata": {
        "id": "pVhRHhtdS8Rt"
      }
    },
    {
      "cell_type": "code",
      "execution_count": null,
      "metadata": {
        "id": "jsACLmp0wb5h"
      },
      "outputs": [],
      "source": [
        "in_hist = gt.vertex_hist(g, \"in\")\n",
        "\n",
        "out_hist = gt.vertex_hist(g, \"out\")"
      ]
    },
    {
      "cell_type": "code",
      "execution_count": null,
      "metadata": {
        "id": "0sRi3VUbwb5i"
      },
      "outputs": [],
      "source": [
        "y = in_hist[0]\n",
        "err = np.sqrt(in_hist[0])\n",
        "plt.errorbar(in_hist[1][:-1], in_hist[0], fmt=\"o\", yerr=err,\n",
        "        label=\"in\")\n",
        "\n",
        "y = out_hist[0]\n",
        "err = np.sqrt(out_hist[0])\n",
        "plt.errorbar(out_hist[1][:-1], out_hist[0], fmt=\"o\", yerr=err,\n",
        "        label=\"out\")\n",
        "\n",
        "plt.yscale(\"log\")\n",
        "plt.xscale(\"log\")\n",
        "\n",
        "plt.xlabel(\"$k$\")\n",
        "plt.ylabel(\"$NP(k_{in})$\")\n",
        "\n",
        "plt.tight_layout()\n",
        "plt.legend()"
      ]
    },
    {
      "cell_type": "markdown",
      "source": [
        "## Select a subgraph for visualization"
      ],
      "metadata": {
        "id": "lVXU3pyPS5l1"
      }
    },
    {
      "cell_type": "code",
      "execution_count": null,
      "metadata": {
        "id": "fWHuPY2swb5i"
      },
      "outputs": [],
      "source": [
        "u = gt.extract_largest_component(g)\n",
        "\n",
        "print(u)\n",
        "\n",
        "u = gt.Graph(u, prune=True)\n",
        "\n",
        "print(u)"
      ]
    },
    {
      "cell_type": "code",
      "execution_count": null,
      "metadata": {
        "id": "WCac_2C7wb5j"
      },
      "outputs": [],
      "source": [
        "# spring layout\n",
        "pos = gt.sfdp_layout(u)"
      ]
    },
    {
      "cell_type": "code",
      "execution_count": null,
      "metadata": {
        "id": "k7UYV_ynwb5k"
      },
      "outputs": [],
      "source": [
        "gt.graph_draw(u, pos)"
      ]
    },
    {
      "cell_type": "code",
      "execution_count": null,
      "metadata": {
        "id": "2yzTzUK5wb5k"
      },
      "outputs": [],
      "source": [
        "pos_fr = gt.fruchterman_reingold_layout(u, n_iter=100)"
      ]
    },
    {
      "cell_type": "code",
      "execution_count": null,
      "metadata": {
        "id": "uN0tyRgfwb5k"
      },
      "outputs": [],
      "source": [
        "gt.graph_draw(u, pos_fr)"
      ]
    },
    {
      "cell_type": "code",
      "execution_count": null,
      "metadata": {
        "id": "xVhSu6klwb5l"
      },
      "outputs": [],
      "source": [
        "gt.graph_draw(u, pos=u.vp[\"_pos\"])"
      ]
    },
    {
      "cell_type": "code",
      "execution_count": null,
      "metadata": {
        "id": "_uam58Rewb5l"
      },
      "outputs": [],
      "source": [
        "import geopandas as gpd\n",
        "\n",
        "countries = gpd.read_file(gpd.datasets.get_path(\"naturalearth_lowres\"))"
      ]
    },
    {
      "cell_type": "code",
      "execution_count": null,
      "metadata": {
        "id": "Mf3AwH2awb5l"
      },
      "outputs": [],
      "source": [
        "pos_tree = gt.radial_tree_layout(u, 0)"
      ]
    },
    {
      "cell_type": "code",
      "execution_count": null,
      "metadata": {
        "id": "cq2k-4sCwb5l"
      },
      "outputs": [],
      "source": [
        "gt.graph_draw(u, pos_tree)"
      ]
    },
    {
      "cell_type": "code",
      "execution_count": null,
      "metadata": {
        "id": "ftkEaCT9wb5l"
      },
      "outputs": [],
      "source": [
        "maximum = max(u.get_in_degrees(u.get_vertices()))\n",
        "\n",
        "print(np.where(u.get_in_degrees(u.get_vertices()) == maximum))\n",
        "print(u.get_in_degrees(u.get_vertices()))"
      ]
    },
    {
      "cell_type": "code",
      "execution_count": null,
      "metadata": {
        "id": "gKUx3Rpxwb5m"
      },
      "outputs": [],
      "source": [
        "pos_tree = gt.radial_tree_layout(u, 1)"
      ]
    },
    {
      "cell_type": "code",
      "execution_count": null,
      "metadata": {
        "id": "QpbOL1nSwb5m"
      },
      "outputs": [],
      "source": [
        "gt.graph_draw(u, pos_tree)"
      ]
    },
    {
      "cell_type": "code",
      "execution_count": null,
      "metadata": {
        "id": "6kLLvqDVwb5m"
      },
      "outputs": [],
      "source": [
        "state = gt.minimize_nested_blockmodel_dl(u)\n",
        "\n",
        "t = gt.get_hierarchy_tree(state)[0]\n",
        "\n",
        "tpos = pos = gt.radial_tree_layout(t, t.vertex(t.num_vertices() - 1, use_index=False), weighted=True)\n",
        "\n",
        "cts = gt.get_hierarchy_control_points(u, t, tpos)\n",
        "\n",
        "pos = u.own_property(tpos)\n",
        "\n",
        "b = state.levels[0].b\n",
        "\n",
        "shape = b.copy()\n",
        "\n",
        "shape.a %= 14\n",
        "\n",
        "gt.graph_draw(u, pos=pos, vertex_fill_color=b, vertex_shape=shape, edge_control_points=cts,\n",
        "\n",
        "              edge_color=[0, 0, 0, 0.3], vertex_anchor=0)"
      ]
    },
    {
      "cell_type": "markdown",
      "source": [
        "## Shortest paths"
      ],
      "metadata": {
        "id": "p94NEicpS1WO"
      }
    },
    {
      "cell_type": "code",
      "execution_count": null,
      "metadata": {
        "id": "y0j8jX9pwb5m"
      },
      "outputs": [],
      "source": [
        "dist = gt.shortest_distance(u, source=u.vertex(1))\n",
        "\n",
        "print(dist.a)\n",
        "\n",
        "plt.hist(dist.a)"
      ]
    },
    {
      "cell_type": "code",
      "execution_count": null,
      "metadata": {
        "id": "cEfkuyQ0wb5n"
      },
      "outputs": [],
      "source": [
        "hist, bin_edges = gt.distance_histogram(u)\n",
        "print(hist)\n",
        "plt.bar(bin_edges[:-1], hist, width=1)"
      ]
    },
    {
      "cell_type": "code",
      "execution_count": null,
      "metadata": {
        "id": "hEgox9D-wb5n"
      },
      "outputs": [],
      "source": [
        "dist = gt.shortest_distance(u)\n",
        "\n",
        "average_path_length = gt.vertex_average(u, dist)\n",
        "print(np.mean(average_path_length))"
      ]
    },
    {
      "cell_type": "markdown",
      "source": [
        "## Percolation"
      ],
      "metadata": {
        "id": "a1PM9d0tSf9w"
      }
    },
    {
      "cell_type": "code",
      "execution_count": null,
      "metadata": {
        "id": "WLWNJNywwb5n"
      },
      "outputs": [],
      "source": [
        "edges = sorted([(e.source(), e.target()) for e in u.edges()],\n",
        "               key=lambda e: e[0].in_degree() * e[1].in_degree())\n",
        "\n",
        "sizes, comp = gt.edge_percolation(u, edges)\n",
        "\n",
        "np.random.shuffle(edges)\n",
        "\n",
        "sizes2, comp = gt.edge_percolation(u, edges)\n",
        "\n",
        "plt.plot(sizes, label=\"Targeted\")\n",
        "\n",
        "plt.plot(sizes2, label=\"Random\")\n",
        "\n",
        "plt.legend()"
      ]
    },
    {
      "cell_type": "markdown",
      "source": [
        "## k-core decomposition"
      ],
      "metadata": {
        "id": "khjK4mVoSlWA"
      }
    },
    {
      "cell_type": "code",
      "execution_count": null,
      "metadata": {
        "id": "junolcCLwb5n"
      },
      "outputs": [],
      "source": [
        "kcore = gt.kcore_decomposition(u)\n",
        "gt.graph_draw(u, vertex_fill_color=kcore, vertex_text=kcore)"
      ]
    },
    {
      "cell_type": "code",
      "execution_count": null,
      "metadata": {
        "id": "ZExz-rNvwb5o"
      },
      "outputs": [],
      "source": [
        "gt.pseudo_diameter(u)"
      ]
    },
    {
      "cell_type": "markdown",
      "source": [
        "## Centrality measures"
      ],
      "metadata": {
        "id": "i8ken_fcSrYd"
      }
    },
    {
      "cell_type": "code",
      "execution_count": null,
      "metadata": {
        "id": "RhEJHNQKwb5o"
      },
      "outputs": [],
      "source": [
        "pr = gt.pagerank(u)\n",
        "\n",
        "gt.graph_draw(u, pos=u.vp[\"_pos\"], vertex_fill_color=pr,\n",
        "\n",
        "              vertex_size=gt.prop_to_size(pr, mi=5, ma=15),\n",
        "\n",
        "              vorder=pr, vcmap=matplotlib.cm.gist_heat)"
      ]
    },
    {
      "cell_type": "code",
      "execution_count": null,
      "metadata": {
        "id": "QP6UgNhawb5o"
      },
      "outputs": [],
      "source": [
        "vp, ep = gt.betweenness(u)\n",
        "\n",
        "gt.graph_draw(u, pos=u.vp[\"_pos\"], vertex_fill_color=vp,\n",
        "\n",
        "              vertex_size=gt.prop_to_size(vp, mi=5, ma=15),\n",
        "\n",
        "              edge_pen_width=gt.prop_to_size(ep, mi=0.5, ma=5),\n",
        "\n",
        "              vcmap=matplotlib.cm.gist_heat,\n",
        "\n",
        "              vorder=vp)"
      ]
    },
    {
      "cell_type": "code",
      "execution_count": null,
      "metadata": {
        "id": "-Mjha0Y1wb5o"
      },
      "outputs": [],
      "source": [
        "c = gt.closeness(u)\n",
        "\n",
        "gt.graph_draw(u, pos=u.vp[\"_pos\"], vertex_fill_color=c,\n",
        "\n",
        "              vertex_size=gt.prop_to_size(c, mi=0.5, ma=5),\n",
        "\n",
        "              vcmap=matplotlib.cm.gist_heat,\n",
        "\n",
        "              vorder=c)"
      ]
    },
    {
      "cell_type": "code",
      "execution_count": null,
      "metadata": {
        "id": "Hruw6iHEwb5o"
      },
      "outputs": [],
      "source": [
        "ee, x = gt.eigenvector(u, u.ep[\"weight\"])\n",
        "\n",
        "gt.graph_draw(u, pos=u.vp[\"_pos\"], vertex_fill_color=x,\n",
        "\n",
        "              vertex_size=gt.prop_to_size(x, mi=5, ma=15),\n",
        "\n",
        "              vcmap=matplotlib.cm.gist_heat,\n",
        "\n",
        "              vorder=x)"
      ]
    },
    {
      "cell_type": "code",
      "execution_count": null,
      "metadata": {
        "id": "S1mIo-VBwb5p"
      },
      "outputs": [],
      "source": [
        "gt.graph_draw(u, pos=pos_fr, vertex_fill_color=x,\n",
        "\n",
        "              vertex_size=gt.prop_to_size(x, mi=5, ma=15),\n",
        "\n",
        "              vcmap=matplotlib.cm.gist_heat,\n",
        "\n",
        "              vorder=x)"
      ]
    },
    {
      "cell_type": "code",
      "execution_count": null,
      "metadata": {
        "id": "GTjjt0Vjwb5p"
      },
      "outputs": [],
      "source": [
        "clust = gt.local_clustering(u)\n",
        "\n",
        "print(gt.vertex_average(u, clust))"
      ]
    },
    {
      "cell_type": "code",
      "execution_count": null,
      "metadata": {
        "id": "DVzB_QH9wb5p"
      },
      "outputs": [],
      "source": [
        "print(clust.a)"
      ]
    },
    {
      "cell_type": "code",
      "execution_count": null,
      "metadata": {
        "id": "IupDz-qmwb5p"
      },
      "outputs": [],
      "source": [
        "out_degs = u.get_out_degrees(u.get_vertices())"
      ]
    },
    {
      "cell_type": "code",
      "execution_count": null,
      "metadata": {
        "id": "syL6qkCWwb5q"
      },
      "outputs": [],
      "source": [
        "plt.scatter(out_degs, clust.a, alpha=0.5)"
      ]
    },
    {
      "cell_type": "code",
      "execution_count": null,
      "metadata": {
        "id": "mVceJtP7wb5q"
      },
      "outputs": [],
      "source": [
        "in_degs = u.get_in_degrees(u.get_vertices())"
      ]
    },
    {
      "cell_type": "code",
      "execution_count": null,
      "metadata": {
        "id": "YxCmiFdawb5q"
      },
      "outputs": [],
      "source": [
        "plt.scatter(in_degs, clust.a, alpha=0.5)"
      ]
    },
    {
      "cell_type": "markdown",
      "source": [
        "## Blockmodel"
      ],
      "metadata": {
        "id": "lSlBBQaPSvDo"
      }
    },
    {
      "cell_type": "code",
      "execution_count": null,
      "metadata": {
        "id": "qG1Len2pwb5q"
      },
      "outputs": [],
      "source": [
        "state = gt.minimize_blockmodel_dl(u)\n",
        "\n",
        "state.draw(pos=u.vp[\"_pos\"], vertex_shape=state.get_blocks())"
      ]
    },
    {
      "cell_type": "code",
      "execution_count": null,
      "metadata": {
        "id": "3JMvI9Giwb5q"
      },
      "outputs": [],
      "source": [
        "state.draw(pos=pos_fr, vertex_shape=state.get_blocks())"
      ]
    },
    {
      "cell_type": "code",
      "execution_count": null,
      "metadata": {
        "id": "X7iqyK-Wwb5q"
      },
      "outputs": [],
      "source": [
        "state.draw(pos=pos_fr, vertex_shape=state.get_blocks(), vertex_size=gt.prop_to_size(x, mi=5, ma=25))"
      ]
    },
    {
      "cell_type": "code",
      "execution_count": null,
      "metadata": {
        "id": "lck_ew9_wb5r"
      },
      "outputs": [],
      "source": [
        "state2 = gt.minimize_nested_blockmodel_dl(u)\n",
        "\n",
        "state2.draw()"
      ]
    },
    {
      "cell_type": "code",
      "execution_count": null,
      "metadata": {
        "id": "C10mxxIowb5r"
      },
      "outputs": [],
      "source": [
        "print(state.get_blocks().a)"
      ]
    },
    {
      "cell_type": "code",
      "execution_count": null,
      "metadata": {
        "id": "7l2s8Bwswb5r"
      },
      "outputs": [],
      "source": [
        "print(u.vp[\"name\"].a)"
      ]
    },
    {
      "cell_type": "code",
      "execution_count": null,
      "metadata": {
        "id": "jk0O8_s7wb5r"
      },
      "outputs": [],
      "source": [
        "u.save(\"retweets.graphml\")"
      ]
    },
    {
      "cell_type": "code",
      "execution_count": null,
      "metadata": {
        "id": "DkPs8OzUwb5r"
      },
      "outputs": [],
      "source": [
        "g_wiki = gt.collection.ns[\"wikipedia_link/de\"]"
      ]
    },
    {
      "cell_type": "code",
      "execution_count": null,
      "metadata": {
        "id": "R741LOhpwb5r"
      },
      "outputs": [],
      "source": [
        "print(g_wiki)"
      ]
    },
    {
      "cell_type": "code",
      "execution_count": null,
      "metadata": {
        "id": "NtMfryi7wb5r"
      },
      "outputs": [],
      "source": [
        "g_wiki.list_properties()"
      ]
    },
    {
      "cell_type": "code",
      "execution_count": null,
      "metadata": {
        "id": "Fh0GOn_iwb5r"
      },
      "outputs": [],
      "source": [
        "g_gov = gt.collection.ns[\"us_agencies/alabama\"]"
      ]
    },
    {
      "cell_type": "code",
      "execution_count": null,
      "metadata": {
        "id": "G-R1UPHZwb5r"
      },
      "outputs": [],
      "source": [
        "g_gov.list_properties()"
      ]
    },
    {
      "cell_type": "code",
      "execution_count": null,
      "metadata": {
        "id": "x5GOblo7wb5s"
      },
      "outputs": [],
      "source": [
        "g_email = gt.collection.ns[\"email_enron\"]"
      ]
    },
    {
      "cell_type": "code",
      "execution_count": null,
      "metadata": {
        "id": "3I6t4Sugwb5s"
      },
      "outputs": [],
      "source": [
        "g_email.list_properties()"
      ]
    },
    {
      "cell_type": "code",
      "execution_count": null,
      "metadata": {
        "id": "6CWO3cyLwb5s"
      },
      "outputs": [],
      "source": [
        "g_faculty = gt.collection.ns[\"faculty_hiring_us/academia\"]"
      ]
    },
    {
      "cell_type": "code",
      "execution_count": null,
      "metadata": {
        "id": "r317qDsSwb5s"
      },
      "outputs": [],
      "source": [
        "g_faculty.list_properties()"
      ]
    },
    {
      "cell_type": "code",
      "execution_count": null,
      "metadata": {
        "id": "rEKooRs4wb5t"
      },
      "outputs": [],
      "source": [
        "g_cop = gt.collection.ns[\"copenhagen/sms\"]"
      ]
    },
    {
      "cell_type": "code",
      "execution_count": null,
      "metadata": {
        "id": "PsoIt0G5wb5t"
      },
      "outputs": [],
      "source": [
        "g_cop.list_properties()"
      ]
    }
  ],
  "metadata": {
    "language_info": {
      "name": "python"
    },
    "colab": {
      "provenance": []
    },
    "kernelspec": {
      "name": "python3",
      "display_name": "Python 3"
    }
  },
  "nbformat": 4,
  "nbformat_minor": 0
}