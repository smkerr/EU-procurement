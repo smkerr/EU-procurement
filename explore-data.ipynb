{
 "cells": [
  {
   "cell_type": "markdown",
   "metadata": {},
   "source": [
    "## Load packages"
   ]
  },
  {
   "cell_type": "code",
   "execution_count": null,
   "metadata": {},
   "outputs": [
    {
     "ename": "<class 'ModuleNotFoundError'>",
     "evalue": "No module named 'graph_tool'",
     "output_type": "error",
     "traceback": [
      "\u001b[0;31m---------------------------------------------------------------------------\u001b[0m",
      "\u001b[0;31mModuleNotFoundError\u001b[0m                       Traceback (most recent call last)",
      "Cell \u001b[0;32mIn[1], line 1\u001b[0m\n\u001b[0;32m----> 1\u001b[0m \u001b[38;5;28;01mimport\u001b[39;00m \u001b[38;5;21;01mgraph_tool\u001b[39;00m\u001b[38;5;21;01m.\u001b[39;00m\u001b[38;5;21;01mall\u001b[39;00m \u001b[38;5;28;01mas\u001b[39;00m \u001b[38;5;21;01mgt\u001b[39;00m\n\u001b[1;32m      2\u001b[0m \u001b[38;5;28;01mimport\u001b[39;00m \u001b[38;5;21;01mmatplotlib\u001b[39;00m\u001b[38;5;21;01m.\u001b[39;00m\u001b[38;5;21;01mpyplot\u001b[39;00m \u001b[38;5;28;01mas\u001b[39;00m \u001b[38;5;21;01mplt\u001b[39;00m\n\u001b[1;32m      3\u001b[0m \u001b[38;5;28;01mimport\u001b[39;00m \u001b[38;5;21;01mnumpy\u001b[39;00m \u001b[38;5;28;01mas\u001b[39;00m \u001b[38;5;21;01mnp\u001b[39;00m\n",
      "\u001b[0;31mModuleNotFoundError\u001b[0m: No module named 'graph_tool'"
     ]
    }
   ],
   "source": [
    "import graph_tool.all as gt\n",
    "import matplotlib.pyplot as plt\n",
    "import numpy as np\n",
    "import matplotlib"
   ]
  },
  {
   "cell_type": "markdown",
   "metadata": {},
   "source": [
    "## Load data"
   ]
  },
  {
   "cell_type": "code",
   "execution_count": null,
   "metadata": {},
   "outputs": [],
   "source": [
    "g = gt.collection.ns[\"twitter_higgs/retweet\"]"
   ]
  },
  {
   "cell_type": "code",
   "execution_count": null,
   "metadata": {},
   "outputs": [],
   "source": [
    "print(g)"
   ]
  },
  {
   "cell_type": "code",
   "execution_count": null,
   "metadata": {},
   "outputs": [],
   "source": [
    "g.list_properties()"
   ]
  },
  {
   "cell_type": "code",
   "execution_count": null,
   "metadata": {},
   "outputs": [],
   "source": [
    "# in and out degree distribution\n",
    "in_hist = gt.vertex_hist(g, \"in\")\n",
    "\n",
    "out_hist = gt.vertex_hist(g, \"out\")"
   ]
  },
  {
   "cell_type": "code",
   "execution_count": null,
   "metadata": {},
   "outputs": [],
   "source": [
    "y = in_hist[0]\n",
    "err = np.sqrt(in_hist[0])\n",
    "plt.errorbar(in_hist[1][:-1], in_hist[0], fmt=\"o\", yerr=err,\n",
    "        label=\"in\")\n",
    "\n",
    "y = out_hist[0]\n",
    "err = np.sqrt(out_hist[0])\n",
    "plt.errorbar(out_hist[1][:-1], out_hist[0], fmt=\"o\", yerr=err,\n",
    "        label=\"out\")\n",
    "\n",
    "plt.yscale(\"log\")\n",
    "plt.xscale(\"log\")\n",
    "\n",
    "plt.xlabel(\"$k$\")\n",
    "plt.ylabel(\"$NP(k_{in})$\")\n",
    "\n",
    "plt.tight_layout()\n",
    "plt.legend()"
   ]
  },
  {
   "cell_type": "code",
   "execution_count": null,
   "metadata": {},
   "outputs": [],
   "source": [
    "# select a subgraph for visualization\n",
    "u = gt.extract_largest_component(g)\n",
    "\n",
    "print(u)\n",
    "\n",
    "u = gt.Graph(u, prune=True)\n",
    "\n",
    "print(u)"
   ]
  },
  {
   "cell_type": "code",
   "execution_count": null,
   "metadata": {},
   "outputs": [],
   "source": [
    "# spring layout\n",
    "pos = gt.sfdp_layout(u)"
   ]
  },
  {
   "cell_type": "code",
   "execution_count": null,
   "metadata": {},
   "outputs": [],
   "source": [
    "gt.graph_draw(u, pos)"
   ]
  },
  {
   "cell_type": "code",
   "execution_count": null,
   "metadata": {},
   "outputs": [],
   "source": [
    "pos_fr = gt.fruchterman_reingold_layout(u, n_iter=100)"
   ]
  },
  {
   "cell_type": "code",
   "execution_count": null,
   "metadata": {},
   "outputs": [],
   "source": [
    "gt.graph_draw(u, pos_fr)"
   ]
  },
  {
   "cell_type": "code",
   "execution_count": null,
   "metadata": {},
   "outputs": [],
   "source": [
    "gt.graph_draw(u, pos=u.vp[\"_pos\"])"
   ]
  },
  {
   "cell_type": "code",
   "execution_count": null,
   "metadata": {},
   "outputs": [],
   "source": [
    "import geopandas as gpd\n",
    "\n",
    "countries = gpd.read_file(gpd.datasets.get_path(\"naturalearth_lowres\"))"
   ]
  },
  {
   "cell_type": "code",
   "execution_count": null,
   "metadata": {},
   "outputs": [],
   "source": [
    "pos_tree = gt.radial_tree_layout(u, 0)"
   ]
  },
  {
   "cell_type": "code",
   "execution_count": null,
   "metadata": {},
   "outputs": [],
   "source": [
    "gt.graph_draw(u, pos_tree)"
   ]
  },
  {
   "cell_type": "code",
   "execution_count": null,
   "metadata": {},
   "outputs": [],
   "source": [
    "maximum = max(u.get_in_degrees(u.get_vertices()))\n",
    "\n",
    "print(np.where(u.get_in_degrees(u.get_vertices()) == maximum))\n",
    "print(u.get_in_degrees(u.get_vertices()))"
   ]
  },
  {
   "cell_type": "code",
   "execution_count": null,
   "metadata": {},
   "outputs": [],
   "source": [
    "pos_tree = gt.radial_tree_layout(u, 1)"
   ]
  },
  {
   "cell_type": "code",
   "execution_count": null,
   "metadata": {},
   "outputs": [],
   "source": [
    "gt.graph_draw(u, pos_tree)"
   ]
  },
  {
   "cell_type": "code",
   "execution_count": null,
   "metadata": {},
   "outputs": [],
   "source": [
    "state = gt.minimize_nested_blockmodel_dl(u)\n",
    "\n",
    "t = gt.get_hierarchy_tree(state)[0]\n",
    "\n",
    "tpos = pos = gt.radial_tree_layout(t, t.vertex(t.num_vertices() - 1, use_index=False), weighted=True)\n",
    "\n",
    "cts = gt.get_hierarchy_control_points(u, t, tpos)\n",
    "\n",
    "pos = u.own_property(tpos)\n",
    "\n",
    "b = state.levels[0].b\n",
    "\n",
    "shape = b.copy()\n",
    "\n",
    "shape.a %= 14\n",
    "\n",
    "gt.graph_draw(u, pos=pos, vertex_fill_color=b, vertex_shape=shape, edge_control_points=cts,\n",
    "\n",
    "              edge_color=[0, 0, 0, 0.3], vertex_anchor=0)"
   ]
  },
  {
   "cell_type": "code",
   "execution_count": null,
   "metadata": {},
   "outputs": [],
   "source": [
    "# shortest paths\n",
    "dist = gt.shortest_distance(u, source=u.vertex(1))\n",
    "\n",
    "print(dist.a)\n",
    "\n",
    "plt.hist(dist.a)"
   ]
  },
  {
   "cell_type": "code",
   "execution_count": null,
   "metadata": {},
   "outputs": [],
   "source": [
    "hist, bin_edges = gt.distance_histogram(u)\n",
    "print(hist)\n",
    "plt.bar(bin_edges[:-1], hist, width=1)"
   ]
  },
  {
   "cell_type": "code",
   "execution_count": null,
   "metadata": {},
   "outputs": [],
   "source": [
    "dist = gt.shortest_distance(u)\n",
    "\n",
    "average_path_length = gt.vertex_average(u, dist)\n",
    "print(np.mean(average_path_length))"
   ]
  },
  {
   "cell_type": "code",
   "execution_count": null,
   "metadata": {},
   "outputs": [],
   "source": [
    "# percolation\n",
    "edges = sorted([(e.source(), e.target()) for e in u.edges()],\n",
    "               key=lambda e: e[0].in_degree() * e[1].in_degree())\n",
    "\n",
    "sizes, comp = gt.edge_percolation(u, edges)\n",
    "\n",
    "np.random.shuffle(edges)\n",
    "\n",
    "sizes2, comp = gt.edge_percolation(u, edges)\n",
    "\n",
    "plt.plot(sizes, label=\"Targeted\")\n",
    "\n",
    "plt.plot(sizes2, label=\"Random\")\n",
    "\n",
    "plt.legend()"
   ]
  },
  {
   "cell_type": "code",
   "execution_count": null,
   "metadata": {},
   "outputs": [],
   "source": [
    "# k-core decomposition\n",
    "kcore = gt.kcore_decomposition(u)\n",
    "gt.graph_draw(u, vertex_fill_color=kcore, vertex_text=kcore)"
   ]
  },
  {
   "cell_type": "code",
   "execution_count": null,
   "metadata": {},
   "outputs": [],
   "source": [
    "gt.pseudo_diameter(u)"
   ]
  },
  {
   "cell_type": "code",
   "execution_count": null,
   "metadata": {},
   "outputs": [],
   "source": [
    "# centrality measures\n",
    "pr = gt.pagerank(u)\n",
    "\n",
    "gt.graph_draw(u, pos=u.vp[\"_pos\"], vertex_fill_color=pr,\n",
    "\n",
    "              vertex_size=gt.prop_to_size(pr, mi=5, ma=15),\n",
    "\n",
    "              vorder=pr, vcmap=matplotlib.cm.gist_heat)"
   ]
  },
  {
   "cell_type": "code",
   "execution_count": null,
   "metadata": {},
   "outputs": [],
   "source": [
    "vp, ep = gt.betweenness(u)\n",
    "\n",
    "gt.graph_draw(u, pos=u.vp[\"_pos\"], vertex_fill_color=vp,\n",
    "\n",
    "              vertex_size=gt.prop_to_size(vp, mi=5, ma=15),\n",
    "\n",
    "              edge_pen_width=gt.prop_to_size(ep, mi=0.5, ma=5),\n",
    "\n",
    "              vcmap=matplotlib.cm.gist_heat,\n",
    "\n",
    "              vorder=vp)"
   ]
  },
  {
   "cell_type": "code",
   "execution_count": null,
   "metadata": {},
   "outputs": [],
   "source": [
    "c = gt.closeness(u)\n",
    "\n",
    "gt.graph_draw(u, pos=u.vp[\"_pos\"], vertex_fill_color=c,\n",
    "\n",
    "              vertex_size=gt.prop_to_size(c, mi=0.5, ma=5),\n",
    "\n",
    "              vcmap=matplotlib.cm.gist_heat,\n",
    "\n",
    "              vorder=c)"
   ]
  },
  {
   "cell_type": "code",
   "execution_count": null,
   "metadata": {},
   "outputs": [],
   "source": [
    "ee, x = gt.eigenvector(u, u.ep[\"weight\"])\n",
    "\n",
    "gt.graph_draw(u, pos=u.vp[\"_pos\"], vertex_fill_color=x,\n",
    "\n",
    "              vertex_size=gt.prop_to_size(x, mi=5, ma=15),\n",
    "\n",
    "              vcmap=matplotlib.cm.gist_heat,\n",
    "\n",
    "              vorder=x)"
   ]
  },
  {
   "cell_type": "code",
   "execution_count": null,
   "metadata": {},
   "outputs": [],
   "source": [
    "gt.graph_draw(u, pos=pos_fr, vertex_fill_color=x,\n",
    "\n",
    "              vertex_size=gt.prop_to_size(x, mi=5, ma=15),\n",
    "\n",
    "              vcmap=matplotlib.cm.gist_heat,\n",
    "\n",
    "              vorder=x)"
   ]
  },
  {
   "cell_type": "code",
   "execution_count": null,
   "metadata": {},
   "outputs": [],
   "source": [
    "clust = gt.local_clustering(u)\n",
    "\n",
    "print(gt.vertex_average(u, clust))"
   ]
  },
  {
   "cell_type": "code",
   "execution_count": null,
   "metadata": {},
   "outputs": [],
   "source": [
    "print(clust.a)"
   ]
  },
  {
   "cell_type": "code",
   "execution_count": null,
   "metadata": {},
   "outputs": [],
   "source": [
    "out_degs = u.get_out_degrees(u.get_vertices())"
   ]
  },
  {
   "cell_type": "code",
   "execution_count": null,
   "metadata": {},
   "outputs": [],
   "source": [
    "plt.scatter(out_degs, clust.a, alpha=0.5)"
   ]
  },
  {
   "cell_type": "code",
   "execution_count": null,
   "metadata": {},
   "outputs": [],
   "source": [
    "in_degs = u.get_in_degrees(u.get_vertices())"
   ]
  },
  {
   "cell_type": "code",
   "execution_count": null,
   "metadata": {},
   "outputs": [],
   "source": [
    "plt.scatter(in_degs, clust.a, alpha=0.5)"
   ]
  },
  {
   "cell_type": "code",
   "execution_count": null,
   "metadata": {},
   "outputs": [],
   "source": [
    "# blockmodel\n",
    "state = gt.minimize_blockmodel_dl(u)\n",
    "\n",
    "state.draw(pos=u.vp[\"_pos\"], vertex_shape=state.get_blocks())"
   ]
  },
  {
   "cell_type": "code",
   "execution_count": null,
   "metadata": {},
   "outputs": [],
   "source": [
    "state.draw(pos=pos_fr, vertex_shape=state.get_blocks())"
   ]
  },
  {
   "cell_type": "code",
   "execution_count": null,
   "metadata": {},
   "outputs": [],
   "source": [
    "state.draw(pos=pos_fr, vertex_shape=state.get_blocks(), vertex_size=gt.prop_to_size(x, mi=5, ma=25))"
   ]
  },
  {
   "cell_type": "code",
   "execution_count": null,
   "metadata": {},
   "outputs": [],
   "source": [
    "state2 = gt.minimize_nested_blockmodel_dl(u)\n",
    "\n",
    "state2.draw()"
   ]
  },
  {
   "cell_type": "code",
   "execution_count": null,
   "metadata": {},
   "outputs": [],
   "source": [
    "print(state.get_blocks().a)"
   ]
  },
  {
   "cell_type": "code",
   "execution_count": null,
   "metadata": {},
   "outputs": [],
   "source": [
    "print(u.vp[\"name\"].a)"
   ]
  },
  {
   "cell_type": "code",
   "execution_count": null,
   "metadata": {},
   "outputs": [],
   "source": [
    "u.save(\"retweets.graphml\")"
   ]
  },
  {
   "cell_type": "code",
   "execution_count": null,
   "metadata": {},
   "outputs": [],
   "source": [
    "g_wiki = gt.collection.ns[\"wikipedia_link/de\"]"
   ]
  },
  {
   "cell_type": "code",
   "execution_count": null,
   "metadata": {},
   "outputs": [],
   "source": [
    "print(g_wiki)"
   ]
  },
  {
   "cell_type": "code",
   "execution_count": null,
   "metadata": {},
   "outputs": [],
   "source": [
    "g_wiki.list_properties()"
   ]
  },
  {
   "cell_type": "code",
   "execution_count": null,
   "metadata": {},
   "outputs": [],
   "source": [
    "g_gov = gt.collection.ns[\"us_agencies/alabama\"]"
   ]
  },
  {
   "cell_type": "code",
   "execution_count": null,
   "metadata": {},
   "outputs": [],
   "source": [
    "g_gov.list_properties()"
   ]
  },
  {
   "cell_type": "code",
   "execution_count": null,
   "metadata": {},
   "outputs": [],
   "source": [
    "g_email = gt.collection.ns[\"email_enron\"]"
   ]
  },
  {
   "cell_type": "code",
   "execution_count": null,
   "metadata": {},
   "outputs": [],
   "source": [
    "g_email.list_properties()"
   ]
  },
  {
   "cell_type": "code",
   "execution_count": null,
   "metadata": {},
   "outputs": [],
   "source": [
    "g_faculty = gt.collection.ns[\"faculty_hiring_us/academia\"]"
   ]
  },
  {
   "cell_type": "code",
   "execution_count": null,
   "metadata": {},
   "outputs": [],
   "source": [
    "g_faculty.list_properties()"
   ]
  },
  {
   "cell_type": "code",
   "execution_count": null,
   "metadata": {},
   "outputs": [],
   "source": [
    "g_cop = gt.collection.ns[\"copenhagen/sms\"]"
   ]
  },
  {
   "cell_type": "code",
   "execution_count": null,
   "metadata": {},
   "outputs": [],
   "source": [
    "g_cop.list_properties()"
   ]
  }
 ],
 "metadata": {
  "language_info": {
   "name": "python"
  }
 },
 "nbformat": 4,
 "nbformat_minor": 2
}
